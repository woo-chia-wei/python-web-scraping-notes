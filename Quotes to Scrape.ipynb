{
 "cells": [
  {
   "cell_type": "code",
   "execution_count": null,
   "metadata": {
    "collapsed": true
   },
   "outputs": [],
   "source": [
    "from scrapy.selector import Selector\n",
    "from urllib.parse import urljoin\n",
    "import requests\n",
    "import pprint as pp\n",
    "import json"
   ]
  },
  {
   "cell_type": "code",
   "execution_count": null,
   "metadata": {
    "collapsed": true
   },
   "outputs": [],
   "source": [
    "# Crawling through all the pages\n",
    "# Start from page 1, keep going to the next page to scrape untill the last page.\n",
    "\n",
    "def get_quotes(url):\n",
    "    selector = Selector(text=requests.get(url).text)\n",
    "    quotes = selector.css('.quote')\n",
    "    quote_data = []\n",
    "\n",
    "    for quote in quotes:\n",
    "        \n",
    "        text = quote.css('.text::text').extract_first().replace('“', '').replace('”', '')\n",
    "        author = quote.css('.author::text').extract_first()\n",
    "        author_link = url + quote.css('span a::attr(href)').extract_first()\n",
    "        tags = quote.css('.tags .tag::text').extract()\n",
    "        \n",
    "        quote_data.append({\n",
    "            \"text\": text,\n",
    "            \"author\": author,\n",
    "            \"author_link\": author_link,\n",
    "            \"tags\": tags\n",
    "        })\n",
    "        \n",
    "    next_page = selector.css('.pager .next a::attr(href)').extract_first()\n",
    "    \n",
    "    if(next_page is None):\n",
    "        next_url = None\n",
    "    else:\n",
    "        next_url = urljoin(\"http://quotes.toscrape.com\", next_page)\n",
    "    \n",
    "    return (quote_data, next_url)\n",
    "\n",
    "def get_all_quotes():\n",
    "    all_quotes_data = []\n",
    "    current_url = \"http://quotes.toscrape.com\"\n",
    "    \n",
    "    while True:\n",
    "        data, next_url = get_quotes(current_url)\n",
    "        all_quotes_data += data\n",
    "        if(next_url is None): break\n",
    "            \n",
    "        current_url = next_url   \n",
    "        print(\"Proceed to \" + next_url)\n",
    "        \n",
    "    return all_quotes_data\n",
    "\n",
    "# Print all quotes\n",
    "all_quotes = get_all_quotes()\n",
    "pp.pprint(all_quotes)"
   ]
  },
  {
   "cell_type": "code",
   "execution_count": null,
   "metadata": {
    "collapsed": true
   },
   "outputs": [],
   "source": [
    "# Save as local json file \"data.json\"\n",
    "with open('quotes_to_scrape.json', 'w') as file:\n",
    "  json.dump(all_quotes, file, sort_keys=True, indent=4)"
   ]
  }
 ],
 "metadata": {
  "kernelspec": {
   "display_name": "Python 3",
   "language": "python",
   "name": "python3"
  },
  "language_info": {
   "codemirror_mode": {
    "name": "ipython",
    "version": 3
   },
   "file_extension": ".py",
   "mimetype": "text/x-python",
   "name": "python",
   "nbconvert_exporter": "python",
   "pygments_lexer": "ipython3",
   "version": "3.6.1"
  }
 },
 "nbformat": 4,
 "nbformat_minor": 2
}

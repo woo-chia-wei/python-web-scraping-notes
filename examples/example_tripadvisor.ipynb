{
 "cells": [
  {
   "cell_type": "code",
   "execution_count": null,
   "metadata": {
    "collapsed": true
   },
   "outputs": [],
   "source": [
    "from selenium import webdriver\n",
    "from time import sleep\n",
    "import json\n",
    "import pprint as pp"
   ]
  },
  {
   "cell_type": "code",
   "execution_count": null,
   "metadata": {
    "collapsed": true
   },
   "outputs": [],
   "source": [
    "# This function automates the clicking of next button to navigate to next page.\n",
    "def get_reviews(url, traveller_type, max_page, wait_time=1):     \n",
    "    driver = None\n",
    "    reviews_data = []\n",
    "   \n",
    "    #######################################################################################################################\n",
    "    # Inner functions\n",
    "    #######################################################################################################################\n",
    "    \n",
    "    def initialize():\n",
    "        nonlocal driver\n",
    "        driver = webdriver.Chrome(\"../drivers/chromedriver.exe\")\n",
    "        driver.get(url)\n",
    "        \n",
    "    def select_traveller_type():\n",
    "        nonlocal driver\n",
    "        driver.find_element_by_css_selector('#taplc_location_review_filter_controls_0_filterSegment_' + traveller_type).click()\n",
    "            \n",
    "    def extract_data():\n",
    "        nonlocal driver\n",
    "        nonlocal reviews_data\n",
    "        print(\"Start data extraction.\")\n",
    "        while(True):\n",
    "            # Wait for page loading\n",
    "            sleep(wait_time)\n",
    "\n",
    "            # Check if current page is within the searching scope\n",
    "            current_page = driver.find_elements_by_css_selector(\".pageNum.current\")[0].get_attribute(\"data-page-number\")\n",
    "            if(int(current_page) > max_page): exit(); break\n",
    "            print(\"Processing page \" + current_page + \"...\")\n",
    "\n",
    "            # Scan all review blocks\n",
    "            reviews = driver.find_elements_by_css_selector('.review-container')\n",
    "            for review in reviews:\n",
    "                username = review.find_element_by_css_selector('.scrname').text\n",
    "                rating = get_rating(review.find_element_by_css_selector('.rating span').get_attribute('class'))\n",
    "                title = review.find_element_by_css_selector('.noQuotes').text\n",
    "                description = review.find_element_by_css_selector('.partial_entry').text\n",
    "                date = review.find_element_by_css_selector('.ratingDate').get_attribute('title')\n",
    "\n",
    "                reviews_data.append({\n",
    "                    \"username\": username,\n",
    "                    \"rating\": rating,\n",
    "                    \"title\": title,\n",
    "                    \"description\": description,\n",
    "                    \"date\": date\n",
    "                })\n",
    "\n",
    "            # Try click on next button, error raised if next button is not found\n",
    "            try:\n",
    "                driver.find_element_by_css_selector('#taplc_location_reviews_list_0 .nav.next.taLnk').click()\n",
    "                no_more_pages = False\n",
    "            except:\n",
    "                no_more_pages = True\n",
    "            if(no_more_pages): exit(); break\n",
    "                \n",
    "        print(\"Done data extraction.\")\n",
    "    \n",
    "    def exit():\n",
    "        nonlocal driver\n",
    "        driver.quit()\n",
    "        \n",
    "    def get_rating(rating_class):\n",
    "        for i in [1,2,3,4,5]:\n",
    "            if(('bubble_' + str(i) + '0') in rating_class):\n",
    "                return i\n",
    "            \n",
    "    #######################################################################################################################\n",
    "    \n",
    "    initialize()\n",
    "    select_traveller_type()\n",
    "    extract_data()\n",
    "    return reviews_data"
   ]
  },
  {
   "cell_type": "code",
   "execution_count": null,
   "metadata": {
    "collapsed": true
   },
   "outputs": [],
   "source": [
    "# Get reviews (max 2 pages) with Solo type traveller for attraction 'Singapore Zoo'\n",
    "url = \"https://www.tripadvisor.com.sg/Attraction_Review-g294265-d324542-Reviews-Singapore_Zoo-Singapore.html\"\n",
    "traveller_type = \"Solo\"\n",
    "all_reviews = get_reviews(url=url, traveller_type=traveller_type, max_page=2)"
   ]
  },
  {
   "cell_type": "code",
   "execution_count": null,
   "metadata": {
    "collapsed": true
   },
   "outputs": [],
   "source": [
    "# Save as local json file\n",
    "with open('data_tripadvisor.json', 'w') as file:\n",
    "  json.dump(all_reviews, file, sort_keys=True, indent=4)"
   ]
  }
 ],
 "metadata": {
  "kernelspec": {
   "display_name": "Python 3",
   "language": "python",
   "name": "python3"
  },
  "language_info": {
   "codemirror_mode": {
    "name": "ipython",
    "version": 3
   },
   "file_extension": ".py",
   "mimetype": "text/x-python",
   "name": "python",
   "nbconvert_exporter": "python",
   "pygments_lexer": "ipython3",
   "version": "3.6.1"
  }
 },
 "nbformat": 4,
 "nbformat_minor": 2
}

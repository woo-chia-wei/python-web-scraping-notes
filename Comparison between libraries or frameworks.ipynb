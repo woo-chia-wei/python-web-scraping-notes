{
 "cells": [
  {
   "cell_type": "code",
   "execution_count": null,
   "metadata": {
    "collapsed": true
   },
   "outputs": [],
   "source": [
    "from scrapy.selector import Selector\n",
    "from bs4 import BeautifulSoup\n",
    "from urllib.parse import urljoin\n",
    "import requests\n",
    "import pprint as pp\n",
    "import json"
   ]
  },
  {
   "cell_type": "code",
   "execution_count": null,
   "metadata": {
    "collapsed": true
   },
   "outputs": [],
   "source": [
    "# Initiailization\n",
    "url = \"http://quotes.toscrape.com\"\n",
    "response = requests.get(url)\n",
    "html = response.text"
   ]
  },
  {
   "cell_type": "code",
   "execution_count": null,
   "metadata": {
    "collapsed": true
   },
   "outputs": [],
   "source": [
    "# 1. BeautifulSoup\n",
    "soup = BeautifulSoup(html, 'html.parser')\n",
    "pp.pprint(soup.select_one(\"h1 a\").text)\n",
    "pp.pprint([element.text for element in soup.select(\".tag-item a.tag\")])"
   ]
  },
  {
   "cell_type": "code",
   "execution_count": null,
   "metadata": {
    "collapsed": true
   },
   "outputs": [],
   "source": [
    "sel = Selector(text=html)\n",
    "\n",
    "# 2.1 Scrapy - Xpath Approach\n",
    "pp.pprint(sel.xpath(\"//h1/a/text()\").extract_first())\n",
    "pp.pprint(sel.xpath('//*[@class=\"tag-item\"]/a/text()').extract())\n",
    "\n",
    "# 2.2 Scrapy - CSS pseudo-element Approach\n",
    "pp.pprint(sel.css(\"h1 a::text\").extract_first())\n",
    "pp.pprint(sel.css('.tag-item a::text').extract())"
   ]
  }
 ],
 "metadata": {
  "kernelspec": {
   "display_name": "Python 3",
   "language": "python",
   "name": "python3"
  },
  "language_info": {
   "codemirror_mode": {
    "name": "ipython",
    "version": 3
   },
   "file_extension": ".py",
   "mimetype": "text/x-python",
   "name": "python",
   "nbconvert_exporter": "python",
   "pygments_lexer": "ipython3",
   "version": "3.6.1"
  }
 },
 "nbformat": 4,
 "nbformat_minor": 2
}
